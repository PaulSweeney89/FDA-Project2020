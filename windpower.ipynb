{
 "cells": [
  {
   "cell_type": "markdown",
   "metadata": {},
   "source": [
    "# Windpower\n",
    "\n",
    "**Fundamentals of Data Analysis Project 2020**\n",
    "\n",
    "*Development of linear regression model for the wind turbine [powerproduction dataset](https://github.com/PaulSweeney89/FDA-Project2020/blob/main/powerproduction.csv) in order to accurately predict the power output of a windturbine for a given wind speed.*  \n",
    "***"
   ]
  },
  {
   "cell_type": "markdown",
   "metadata": {},
   "source": [
    "## Background\n",
    "\n",
    "Wind energy has been used by humans for thousands of years, from the earliest of sailers using wind to propel their boats to ancient farmers using early windmills to grind grain for food production. \n",
    "\n",
    "Today in Ireland with the climate emergency & the need for the reduction of dependance on fossil fuels, wind energy development has become an essential means for producing clean renewable electricity, with \"wind providing 85% of Ireland’s renewable electricity and 30% of our total electricity demand\". [1]\n",
    "\n",
    "Wind power describes the process in which wind is used to generate mechanical power or electricity.\n",
    "\n",
    "A wind turbine turns wind energy into electricity using the aerodynamic force from the rotor blades, when wind flows towards a turbine the aerodynamic properties of the rotor blades cause a pressure difference across the two sides of the blade exerting both a lift and drag force on the rotor, similar to how a aeroplane wing works. \n",
    "The rotor blade is designed so the lift force experienced is stronger than the drag which will cause the rotor to spin, the spinning rotor of the turbine is then used to drive a genertor for the creation of electricity. \n",
    "\n",
    "![Rotor Blade](https://github.com/PaulSweeney89/FDA-Project2020/blob/main/Images/Rotor%20Blade.png?raw=true)\n",
    "\n",
    "**Figure 1** - Rotor Blade Aerodynamic Properties - [alternative-energy-tutorials.com](http://www.alternative-energy-tutorials.com/energy-articles/wind-turbine-blade-design.html)"
   ]
  },
  {
   "cell_type": "markdown",
   "metadata": {},
   "source": [
    "## Wind Power\n",
    "\n",
    "Wind turbines work by converting kinetic energy of the wind first into the kinetic energy of the rotation of the turbine rotor blades and then into electrical energy through the turbine generator. \n",
    "\n",
    "Derived from Newton's laws of motion the theoretical power converted from the wind into rotational energy in the wind turbine is calculated using the formula [2];\n",
    "\n",
    "$$ P= \\frac{1}{2}\\rho A v^3 C_p \\hspace{1cm} (1) $$ \n",
    "\n",
    "$ P $ = Power $(W)$ \n",
    "\n",
    "$ \\rho $ = Air Density $(kg/m^3)$\n",
    "\n",
    "$ A = $ Swept Area $(m^2)$ of the turbine \n",
    "\n",
    "$ v = $ Wind Speed $(m/s)$\n",
    "\n",
    "$ C_p $ = Power Coefficient \n",
    "\n",
    "**Note:** The German physicist Albert Betz concluded in 1919 that the theoretical maximum efficiency for any design of wind turbine is 59.3% also known as the Betz limit[2]\n",
    "\n",
    "In reality, turbines cannot reach the Betz limit, and common efficiencies are in the 35-45% range ($C_p$ = 0.35 - 0.45) [2]\n",
    "\n",
    "The $C_p$ value is unique to each turbine type, is a function of wind speed and is influenced by various turbine engineering requirements such as strength, durability along with other turbine ineffiencies such as the generator & power transmission. Therefore the amount of wind power converted into actual usable electricity can be as low as 10 - 30% [2]."
   ]
  },
  {
   "cell_type": "markdown",
   "metadata": {},
   "source": [
    "## Power Curves of Wind Turbines\n",
    "\n",
    "Power curves of a wind turbines depicts the relationship between wind speed & output power and are used for predicting wind turbines energy output & performace for a given wind forecast. \n",
    "\n",
    "Power curves are developed using data from manufacturers’ specifications and actual data collected from the wind farms.\n",
    "\n",
    "![Wind Power Curve](https://github.com/PaulSweeney89/FDA-Project2020/blob/main/Images/Typical%20Power%20Curve.png?raw=true)\n",
    "\n",
    "**Figure 2** - Typical Wind Power Curve - [www.hindawi.com](https://www.hindawi.com/journals/jen/2016/8519785/)\n",
    "\n",
    "**Region 1** - Wind speed is not sufficiently high to produce enough force inorder to rotate the turbine rotor blades, therefore the power output of the turbine is zero.\n",
    "\n",
    "*$ v_{cut-in} $* The wind speed which results in rotation of the rotor blades & begins to drive turbine generator (typically 2-5m/s). The wind turbine may generate some power output at $ v_{cut-in} $ however it\n",
    "may not be enough to overcome any generator or turbine ineffiencies & therefore no electricity may be produced at this wind speed. \n",
    "\n",
    "**Region 2** - The range of wind speed for which the turbine operates & produces electrical power output, note that there is a rapid growth of power produced over this range of wind speeds.\n",
    "\n",
    "$ v_{rated} $ The optimal operational wind speed for a given wind turbine, note this wind speed may not equate to the max achievable power output but rather the most efficient attainable power output (Rated Power Output) for the wind turbine.\n",
    "\n",
    "**Region 3** - The constant Rated Power Output is maintained in this wind speed region up untill cut-out wind $ v_{cut-off} $ is reached.\n",
    "\n",
    "$ v_{cut-off} $ The wind speed at which the turbine is taken out of operation to protect its components from high winds (typically 20–30 m/s).\n",
    "\n",
    "**Region 4** - Also know furling, for wind speeds at or greater than $ v_{cut-off} $, the turbine is taken out of operation to protect its components from high winds, the turbine produces no power output within this region.\n",
    "\n",
    "| SMALL TURBINES (0-10m DIAMETER ROTORS) | LARGE TURBINE (160 - 200m DIAMETER ROTORS) | \n",
    "|---|---|\n",
    "| <img src=\"https://github.com/PaulSweeney89/FDA-Project2020/blob/main/Images/Smallest%20Turbines%20-%20Power%20Curve.png?raw=true\" width=\"490\"/> | <img src=\"https://github.com/PaulSweeney89/FDA-Project2020/blob/main/Images/Largest%20Windturbine%20-%20Power%20Curve.png?raw=true\" width=\"490\"/> |\n",
    "\n",
    "**Figure 3** - Wind Power Curves For Various Turbine Types - [wind-turbine-models.com](https://en.wind-turbine-models.com/powercurves)\n",
    "\n",
    "From the 2 examples of wind turbine power curves above, it can be seen that the smaller turbines with rotor diameters between 0-10m can have a power output upto 20kW for windspeeds upto 12m/s.\n",
    "\n",
    "While the largest turbines with rotor diameters between 160 - 200m can produce upto 8000kW for windspeeds upto 12m/s."
   ]
  },
  {
   "cell_type": "markdown",
   "metadata": {},
   "source": [
    "## Powerproduction Dataset"
   ]
  },
  {
   "cell_type": "code",
   "execution_count": 116,
   "metadata": {},
   "outputs": [],
   "source": [
    "import pandas as pd\n",
    "import seaborn as sns\n",
    "import matplotlib.pyplot as plt\n",
    "import numpy as np\n",
    "\n",
    "# set plot style\n",
    "plt.style.use(\"ggplot\")\n",
    "\n",
    "# load powerproduction.csv file into pandas dataframe\n",
    "df_wind = pd.read_csv(\"https://raw.githubusercontent.com/ianmcloughlin/2020A-machstat-project/master/dataset/powerproduction.csv\")"
   ]
  },
  {
   "cell_type": "code",
   "execution_count": 117,
   "metadata": {
    "scrolled": false
   },
   "outputs": [
    {
     "data": {
      "text/html": [
       "<div>\n",
       "<style scoped>\n",
       "    .dataframe tbody tr th:only-of-type {\n",
       "        vertical-align: middle;\n",
       "    }\n",
       "\n",
       "    .dataframe tbody tr th {\n",
       "        vertical-align: top;\n",
       "    }\n",
       "\n",
       "    .dataframe thead th {\n",
       "        text-align: right;\n",
       "    }\n",
       "</style>\n",
       "<table border=\"1\" class=\"dataframe\">\n",
       "  <thead>\n",
       "    <tr style=\"text-align: right;\">\n",
       "      <th></th>\n",
       "      <th>speed</th>\n",
       "      <th>power</th>\n",
       "    </tr>\n",
       "  </thead>\n",
       "  <tbody>\n",
       "    <tr>\n",
       "      <th>count</th>\n",
       "      <td>500.000000</td>\n",
       "      <td>500.000000</td>\n",
       "    </tr>\n",
       "    <tr>\n",
       "      <th>mean</th>\n",
       "      <td>12.590398</td>\n",
       "      <td>48.014584</td>\n",
       "    </tr>\n",
       "    <tr>\n",
       "      <th>std</th>\n",
       "      <td>7.224991</td>\n",
       "      <td>41.614572</td>\n",
       "    </tr>\n",
       "    <tr>\n",
       "      <th>min</th>\n",
       "      <td>0.000000</td>\n",
       "      <td>0.000000</td>\n",
       "    </tr>\n",
       "    <tr>\n",
       "      <th>25%</th>\n",
       "      <td>6.324750</td>\n",
       "      <td>5.288000</td>\n",
       "    </tr>\n",
       "    <tr>\n",
       "      <th>50%</th>\n",
       "      <td>12.550500</td>\n",
       "      <td>41.645500</td>\n",
       "    </tr>\n",
       "    <tr>\n",
       "      <th>75%</th>\n",
       "      <td>18.775250</td>\n",
       "      <td>93.537000</td>\n",
       "    </tr>\n",
       "    <tr>\n",
       "      <th>max</th>\n",
       "      <td>25.000000</td>\n",
       "      <td>113.556000</td>\n",
       "    </tr>\n",
       "  </tbody>\n",
       "</table>\n",
       "</div>"
      ],
      "text/plain": [
       "            speed       power\n",
       "count  500.000000  500.000000\n",
       "mean    12.590398   48.014584\n",
       "std      7.224991   41.614572\n",
       "min      0.000000    0.000000\n",
       "25%      6.324750    5.288000\n",
       "50%     12.550500   41.645500\n",
       "75%     18.775250   93.537000\n",
       "max     25.000000  113.556000"
      ]
     },
     "execution_count": 117,
     "metadata": {},
     "output_type": "execute_result"
    }
   ],
   "source": [
    "# Output descriptive statistics of df_wind\n",
    "df_wind.describe()"
   ]
  },
  {
   "cell_type": "markdown",
   "metadata": {},
   "source": [
    "The pandas **DataFrame.describe()** function provides a very useful summary of the *powerproduction dataset*.\n",
    "\n",
    "It can be seen that the dataset consists of 2 columns, speed (wind speed) & power with each column contains 500 datapoints. \n",
    "\n",
    "No infomation has been provided regarding the size or type of turbine from which the data was collected or regarding the units of measurement used for the data contained within the dataset.\n",
    "\n",
    "However by looking at the values within the *powerproduction dataset* and comparing it to the wind turbine power curves found on [wind-turbine-models.com](https://en.wind-turbine-models.com/powercurves) the following can be assumped:\n",
    "\n",
    "- speed (wind speed) - metres per second, $m/s$\n",
    "- power - kilowatts, $kW$\n",
    "\n",
    "The summary of the *powerproduction dataset* indicates that the unknown turbine from which the dataset was compiled, has achieved a max powerout of 113kW, this might indicate that the turbine has a rated power output around 100kW. \n",
    "\n",
    "From further review of the various wind turbine data & power curves found on [wind-turbine-models.com](https://en.wind-turbine-models.com/powercurves) it would appear that the *powerproduction dataset* within this project is comparable to that of a wind turbine with a rotor diameter in the range of 20 to 30m."
   ]
  },
  {
   "cell_type": "markdown",
   "metadata": {},
   "source": [
    "**Power Curve - Power vs Speed**"
   ]
  },
  {
   "cell_type": "code",
   "execution_count": 118,
   "metadata": {
    "scrolled": true
   },
   "outputs": [
    {
     "data": {
      "image/png": "[encoded data removed]",
      "text/plain": [
       "<Figure size 432x288 with 1 Axes>"
      ]
     },
     "metadata": {},
     "output_type": "display_data"
    }
   ],
   "source": [
    "# Seaborn scatterplot of wind speed vs power from df_wind\n",
    "\n",
    "sns.scatterplot(data=df_wind, x=\"speed\", y=\"power\");"
   ]
  },
  {
   "cell_type": "markdown",
   "metadata": {},
   "source": [
    "The seaborn scatterplot of 'power' vs 'speed' for the *powerproduction dataset* reflects the very distincive shape of that of a typical wind turbine, refering back to **figure 2** the different regions of the wind turbine powercurve can be clearly differentiated.\n",
    "\n",
    "The plot also highlights a number of possible outliers or datapoints that don't appear to fit within the dataset.\n",
    "\n",
    "There are a number of points where the wind speed has increased above 10m/s but the power output for these points has remained at 0, it is a possibility that for these points the wind speed was recorded at a time when the wind turbine was not operable and therefore no corresponding power output was recorded. \n",
    "These points will be removed from the dataset, to prevent any possible obscurring of the data analysis or results."
   ]
  },
  {
   "cell_type": "markdown",
   "metadata": {},
   "source": [
    "**Cleaning the Dataset**"
   ]
  },
  {
   "cell_type": "code",
   "execution_count": 119,
   "metadata": {
    "scrolled": true
   },
   "outputs": [
    {
     "name": "stdout",
     "output_type": "stream",
     "text": [
      "      speed  power\n",
      "208  10.511    0.0\n",
      "340  17.167    0.0\n",
      "404  20.095    0.0\n",
      "456  22.998    0.0\n",
      "490  24.499    0.0\n",
      "491  24.525    0.0\n",
      "492  24.575    0.0\n",
      "493  24.650    0.0\n",
      "494  24.750    0.0\n",
      "495  24.775    0.0\n",
      "496  24.850    0.0\n",
      "497  24.875    0.0\n",
      "498  24.950    0.0\n",
      "499  25.000    0.0\n"
     ]
    },
    {
     "data": {
      "text/plain": [
       "speed    14\n",
       "power    14\n",
       "dtype: int64"
      ]
     },
     "execution_count": 119,
     "metadata": {},
     "output_type": "execute_result"
    }
   ],
   "source": [
    "# Selecting all the outlier datapoints where wind speed > 0 & powerout = 0\n",
    "df_out = df_wind[(df_wind[\"speed\"]>10) & (df_wind[\"power\"]==0)]\n",
    "\n",
    "print(df_out)\n",
    "df_out.count()"
   ]
  },
  {
   "cell_type": "markdown",
   "metadata": {},
   "source": [
    "There are 14 number outliers to be removed from the *powerproduction dataset*"
   ]
  },
  {
   "cell_type": "code",
   "execution_count": 120,
   "metadata": {
    "scrolled": true
   },
   "outputs": [],
   "source": [
    "# remove the outliers to clean up the dataset\n",
    "df_clean = df_wind.drop(df_out.index, axis=0)\n",
    "\n",
    "df_clean.describe()\n",
    "\n",
    "# Output cleaned dataset as a csv file\n",
    "df_clean.to_csv(\"powerproduction_clean.csv\", index=False, encoding='utf8')"
   ]
  },
  {
   "cell_type": "markdown",
   "metadata": {},
   "source": [
    "By removing the outliers, it can be seen that the average speed & max speed of the dataset have been slightly reduced. \n",
    "\n",
    "The cleaned up dataset has also been output as \"powerproduction_clean.csv\" file."
   ]
  },
  {
   "cell_type": "markdown",
   "metadata": {},
   "source": [
    "## Wind Power Mathematical Models\n",
    "\n",
    "A look at some of wind power mathematical formulas & models with a review & comparison against the *powerproduction dataset* values.\n",
    "\n",
    "**Theoretical Wind Power Formula**\n",
    "\n",
    "$ P= \\frac{1}{2}\\rho A v^3 C_p \\hspace{1cm} (1)$"
   ]
  },
  {
   "cell_type": "code",
   "execution_count": 131,
   "metadata": {},
   "outputs": [],
   "source": [
    "# Using Formula (1) to calculate the Theoretical Wind Power\n",
    "\n",
    "# Air Density taken as 1.23 kg/m3\n",
    "rho = 1.23\n",
    "\n",
    "# Swept area of turbine - assuming 20m diameter rotor\n",
    "A = (10**2) * 3.14\n",
    "\n",
    "# Power Coefficient assumed 0.3\n",
    "C_p = 0.3\n",
    "\n",
    "# create a NumPy array to provide wind speeds from 0 upto 12m/s in 0.5m/s increments\n",
    "v = np.linspace(0.0, 12.0, 25)\n",
    "\n",
    "# Calculate Power Output\n",
    "P = (0.5*rho*A*(v**3)*C_p) / 1000"
   ]
  },
  {
   "cell_type": "code",
   "execution_count": 134,
   "metadata": {
    "scrolled": true
   },
   "outputs": [
    {
     "data": {
      "text/html": [
       "<div>\n",
       "<style scoped>\n",
       "    .dataframe tbody tr th:only-of-type {\n",
       "        vertical-align: middle;\n",
       "    }\n",
       "\n",
       "    .dataframe tbody tr th {\n",
       "        vertical-align: top;\n",
       "    }\n",
       "\n",
       "    .dataframe thead th {\n",
       "        text-align: right;\n",
       "    }\n",
       "</style>\n",
       "<table border=\"1\" class=\"dataframe\">\n",
       "  <thead>\n",
       "    <tr style=\"text-align: right;\">\n",
       "      <th></th>\n",
       "      <th>wind speed</th>\n",
       "      <th>power</th>\n",
       "    </tr>\n",
       "  </thead>\n",
       "  <tbody>\n",
       "    <tr>\n",
       "      <th>0</th>\n",
       "      <td>0.0</td>\n",
       "      <td>0.000000</td>\n",
       "    </tr>\n",
       "    <tr>\n",
       "      <th>1</th>\n",
       "      <td>0.5</td>\n",
       "      <td>0.007242</td>\n",
       "    </tr>\n",
       "    <tr>\n",
       "      <th>2</th>\n",
       "      <td>1.0</td>\n",
       "      <td>0.057933</td>\n",
       "    </tr>\n",
       "    <tr>\n",
       "      <th>3</th>\n",
       "      <td>1.5</td>\n",
       "      <td>0.195524</td>\n",
       "    </tr>\n",
       "    <tr>\n",
       "      <th>4</th>\n",
       "      <td>2.0</td>\n",
       "      <td>0.463464</td>\n",
       "    </tr>\n",
       "    <tr>\n",
       "      <th>5</th>\n",
       "      <td>2.5</td>\n",
       "      <td>0.905203</td>\n",
       "    </tr>\n",
       "    <tr>\n",
       "      <th>6</th>\n",
       "      <td>3.0</td>\n",
       "      <td>1.564191</td>\n",
       "    </tr>\n",
       "    <tr>\n",
       "      <th>7</th>\n",
       "      <td>3.5</td>\n",
       "      <td>2.483877</td>\n",
       "    </tr>\n",
       "    <tr>\n",
       "      <th>8</th>\n",
       "      <td>4.0</td>\n",
       "      <td>3.707712</td>\n",
       "    </tr>\n",
       "    <tr>\n",
       "      <th>9</th>\n",
       "      <td>4.5</td>\n",
       "      <td>5.279145</td>\n",
       "    </tr>\n",
       "    <tr>\n",
       "      <th>10</th>\n",
       "      <td>5.0</td>\n",
       "      <td>7.241625</td>\n",
       "    </tr>\n",
       "    <tr>\n",
       "      <th>11</th>\n",
       "      <td>5.5</td>\n",
       "      <td>9.638603</td>\n",
       "    </tr>\n",
       "    <tr>\n",
       "      <th>12</th>\n",
       "      <td>6.0</td>\n",
       "      <td>12.513528</td>\n",
       "    </tr>\n",
       "    <tr>\n",
       "      <th>13</th>\n",
       "      <td>6.5</td>\n",
       "      <td>15.909850</td>\n",
       "    </tr>\n",
       "    <tr>\n",
       "      <th>14</th>\n",
       "      <td>7.0</td>\n",
       "      <td>19.871019</td>\n",
       "    </tr>\n",
       "    <tr>\n",
       "      <th>15</th>\n",
       "      <td>7.5</td>\n",
       "      <td>24.440484</td>\n",
       "    </tr>\n",
       "    <tr>\n",
       "      <th>16</th>\n",
       "      <td>8.0</td>\n",
       "      <td>29.661696</td>\n",
       "    </tr>\n",
       "    <tr>\n",
       "      <th>17</th>\n",
       "      <td>8.5</td>\n",
       "      <td>35.578104</td>\n",
       "    </tr>\n",
       "    <tr>\n",
       "      <th>18</th>\n",
       "      <td>9.0</td>\n",
       "      <td>42.233157</td>\n",
       "    </tr>\n",
       "    <tr>\n",
       "      <th>19</th>\n",
       "      <td>9.5</td>\n",
       "      <td>49.670306</td>\n",
       "    </tr>\n",
       "    <tr>\n",
       "      <th>20</th>\n",
       "      <td>10.0</td>\n",
       "      <td>57.933000</td>\n",
       "    </tr>\n",
       "    <tr>\n",
       "      <th>21</th>\n",
       "      <td>10.5</td>\n",
       "      <td>67.064689</td>\n",
       "    </tr>\n",
       "    <tr>\n",
       "      <th>22</th>\n",
       "      <td>11.0</td>\n",
       "      <td>77.108823</td>\n",
       "    </tr>\n",
       "    <tr>\n",
       "      <th>23</th>\n",
       "      <td>11.5</td>\n",
       "      <td>88.108851</td>\n",
       "    </tr>\n",
       "    <tr>\n",
       "      <th>24</th>\n",
       "      <td>12.0</td>\n",
       "      <td>100.108224</td>\n",
       "    </tr>\n",
       "  </tbody>\n",
       "</table>\n",
       "</div>"
      ],
      "text/plain": [
       "    wind speed       power\n",
       "0          0.0    0.000000\n",
       "1          0.5    0.007242\n",
       "2          1.0    0.057933\n",
       "3          1.5    0.195524\n",
       "4          2.0    0.463464\n",
       "5          2.5    0.905203\n",
       "6          3.0    1.564191\n",
       "7          3.5    2.483877\n",
       "8          4.0    3.707712\n",
       "9          4.5    5.279145\n",
       "10         5.0    7.241625\n",
       "11         5.5    9.638603\n",
       "12         6.0   12.513528\n",
       "13         6.5   15.909850\n",
       "14         7.0   19.871019\n",
       "15         7.5   24.440484\n",
       "16         8.0   29.661696\n",
       "17         8.5   35.578104\n",
       "18         9.0   42.233157\n",
       "19         9.5   49.670306\n",
       "20        10.0   57.933000\n",
       "21        10.5   67.064689\n",
       "22        11.0   77.108823\n",
       "23        11.5   88.108851\n",
       "24        12.0  100.108224"
      ]
     },
     "execution_count": 134,
     "metadata": {},
     "output_type": "execute_result"
    }
   ],
   "source": [
    "df_model = pd.DataFrame({\"wind speed\": v, \"power\":P})\n",
    "df_model"
   ]
  },
  {
   "cell_type": "code",
   "execution_count": 135,
   "metadata": {
    "scrolled": true
   },
   "outputs": [
    {
     "data": {
      "image/png": "[encoded data removed]",
      "text/plain": [
       "<Figure size 432x288 with 1 Axes>"
      ]
     },
     "metadata": {},
     "output_type": "display_data"
    }
   ],
   "source": [
    "sns.lineplot(x=df_test[\"wind speed\"], y=df_test[\"power\"])\n",
    "sns.scatterplot(data=df_clean, x=\"speed\", y=\"power\");"
   ]
  },
  {
   "cell_type": "markdown",
   "metadata": {},
   "source": [
    "**4-Parameter Logistic Function Model**\n",
    "\n",
    "$$ P(u) = a \\frac{1 + me^{-u/t}}{1+ ne^{-u/t}} $$"
   ]
  },
  {
   "cell_type": "code",
   "execution_count": 102,
   "metadata": {
    "scrolled": true
   },
   "outputs": [
    {
     "data": {
      "text/plain": [
       "0        11.813466\n",
       "1        12.110692\n",
       "2        12.173356\n",
       "3        12.368134\n",
       "4        12.503844\n",
       "          ...     \n",
       "495    2011.071184\n",
       "496    2011.072678\n",
       "497    2011.073159\n",
       "498    2011.074550\n",
       "499    2011.075437\n",
       "Name: speed, Length: 500, dtype: float64"
      ]
     },
     "execution_count": 102,
     "metadata": {},
     "output_type": "execute_result"
    }
   ],
   "source": [
    "import numpy as np\n",
    "a, m, n, t = 2011.1, 2.6650, 622.922, 1.4090\n",
    "\n",
    "u = df_wind[\"speed\"]\n",
    "\n",
    "P_u = a * (1.0 + m * np.exp(-u / t)) / (1.0 + n * np.exp(-u / t))\n",
    "P_u"
   ]
  },
  {
   "cell_type": "code",
   "execution_count": 103,
   "metadata": {},
   "outputs": [
    {
     "data": {
      "text/plain": [
       "<matplotlib.axes._subplots.AxesSubplot at 0x179f9129fa0>"
      ]
     },
     "execution_count": 103,
     "metadata": {},
     "output_type": "execute_result"
    },
    {
     "data": {
      "image/png": "[encoded data removed]",
      "text/plain": [
       "<Figure size 432x288 with 1 Axes>"
      ]
     },
     "metadata": {},
     "output_type": "display_data"
    }
   ],
   "source": [
    "sns.lineplot(x=df_wind[\"speed\"], y=P_u)"
   ]
  },
  {
   "cell_type": "markdown",
   "metadata": {},
   "source": [
    "## References\n",
    "\n",
    "[1] [seai.ie, Sustainable Energy Authority of Ireland](https://www.seai.ie/technologies/wind-energy/#:~:text=Wind%20energy%20in%20Ireland,of%20renewable%20energy%20in%20Ireland.&text=In%202018%20Wind%20provided%2085,in%20Ireland%20after%20natural%20gas.)\n",
    "\n",
    "[2] [raeng.org.uk, The Royal Academy of Engineering - Wind Turbine Power Calculations Publication](https://www.raeng.org.uk/publications/other/23-wind-turbine)\n",
    "\n",
    "[3] [shanelynn.ie, Pandas Dataframe Indexing](https://www.shanelynn.ie/select-pandas-dataframe-rows-and-columns-using-iloc-loc-and-ix/)\n",
    "\n",
    "[4] [Reformulation of parameters of the logistic function applied to power curves of wind turbines, DanielVillanueva & Andrés E.Feijóo, sciencedirect.com](https://www.sciencedirect.com/science/article/pii/S0378779616300992)"
   ]
  },
  {
   "cell_type": "code",
   "execution_count": null,
   "metadata": {},
   "outputs": [],
   "source": []
  }
 ],
 "metadata": {
  "kernelspec": {
   "display_name": "Python 3",
   "language": "python",
   "name": "python3"
  },
  "language_info": {
   "codemirror_mode": {
    "name": "ipython",
    "version": 3
   },
   "file_extension": ".py",
   "mimetype": "text/x-python",
   "name": "python",
   "nbconvert_exporter": "python",
   "pygments_lexer": "ipython3",
   "version": "3.8.3"
  }
 },
 "nbformat": 4,
 "nbformat_minor": 4
}
