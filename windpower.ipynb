{
 "cells": [
  {
   "cell_type": "markdown",
   "metadata": {},
   "source": [
    "# Windpower\n",
    "\n",
    "**Fundamentals of Data Analysis Project 2020**\n",
    "\n",
    "*Development of linear regression model for the wind turbine [powerproduction dataset](https://github.com/PaulSweeney89/FDA-Project2020/blob/main/powerproduction.csv) in order to accurately predict the power output of a windturbine for a given wind speed.*  \n",
    "***"
   ]
  },
  {
   "cell_type": "markdown",
   "metadata": {},
   "source": [
    "## Background\n",
    "\n",
    "Wind energy has been used by humans for thousands of years, from the earliest of sailers using wind to propel their boats to ancient farmers using early windmills to grind grain for food production. \n",
    "\n",
    "Today in Ireland with the climate emergency & the need for the reduction of dependance on fossil fuels, wind energy development has become an essential means for producing clean renewable electricity, with \"wind providing 85% of Ireland’s renewable electricity and 30% of our total electricity demand\". [1]\n",
    "\n",
    "Wind power describes the process in which wind is used to generate mechanical power or electricity.\n",
    "\n",
    "A wind turbine turns wind energy into electricity using the aerodynamic force from the rotor blades, when wind flows towards a turbine the aerodynamic properties of the rotor blades cause a pressure difference across the two sides of the blade exerting both a lift and drag force on the rotor, similar to how a aeroplane wing works. \n",
    "The rotor blade is designed so the lift force experienced is stronger than the drag which will cause the rotor to spin, the spinning rotor of the turbine is then used to drive a genertor for the creation of electricity. \n",
    "\n",
    "![Rotor Blade](https://github.com/PaulSweeney89/FDA-Project2020/blob/main/Images/Rotor%20Blade.png?raw=true)\n",
    "\n",
    "**Figure 1** - Rotor Blade Aerodynamic Properties - [alternative-energy-tutorials.com](http://www.alternative-energy-tutorials.com/energy-articles/wind-turbine-blade-design.html)\n",
    "***"
   ]
  },
  {
   "cell_type": "markdown",
   "metadata": {},
   "source": [
    "## Wind Power\n",
    "\n",
    "Wind turbines work by converting kinetic energy of the wind first into the kinetic energy of the rotation of the turbine rotor blades and then into electrical energy through the turbine generator. \n",
    "\n",
    "Derived from Newton's laws of motion the theoretical power converted from the wind into rotational energy in the wind turbine is calculated using the formula [2];\n",
    "\n",
    "$$ P= \\frac{1}{2}\\rho A v^3 C_p \\hspace{1cm} (1) $$ \n",
    "\n",
    "$ P $ = Power $(W)$ \n",
    "\n",
    "$ \\rho $ = Air Density $(kg/m^3)$\n",
    "\n",
    "$ A = $ Swept Area $(m^2)$ of the turbine \n",
    "\n",
    "$ v = $ Wind Speed $(m/s)$\n",
    "\n",
    "$ C_p $ = Power Coefficient \n",
    "\n",
    "**Note:** The German physicist Albert Betz concluded in 1919 that the theoretical maximum efficiency for any design of wind turbine is 59.3% also known as the Betz limit[2]\n",
    "\n",
    "In reality, turbines cannot reach the Betz limit, and common efficiencies are in the 35-45% range ($C_p$ = 0.35 - 0.45) [2]\n",
    "\n",
    "The $C_p$ value is unique to each turbine type, is a function of wind speed and is influenced by various turbine engineering requirements such as strength, durability along with other turbine ineffiencies such as the generator & power transmission. Therefore the amount of wind power converted into actual usable electricity can be as low as 10 - 30% [2].\n",
    "***"
   ]
  },
  {
   "cell_type": "markdown",
   "metadata": {},
   "source": [
    "## Power Curves of Wind Turbines\n",
    "\n",
    "Power curves of a wind turbines depicts the relationship between wind speed & output power and are used for predicting wind turbines energy output & performace for a given wind forecast. \n",
    "\n",
    "Power curves are developed using data from manufacturers’ specifications and actual data collected from the wind farms.\n",
    "\n",
    "![Wind Power Curve](https://github.com/PaulSweeney89/FDA-Project2020/blob/main/Images/Typical%20Power%20Curve.png?raw=true)\n",
    "\n",
    "**Figure 2** - Typical Wind Power Curve - [www.hindawi.com](https://www.hindawi.com/journals/jen/2016/8519785/)\n",
    "\n",
    "**Region 1** - Wind speed is not sufficiently high to produce enough force inorder to rotate the turbine rotor blades, therefore the power output of the turbine is zero.\n",
    "\n",
    "*$ v_{cut-in} $* The wind speed which results in rotation of the rotor blades & begins to drive turbine generator (typically 2-5m/s). The wind turbine may generate some power output at $ v_{cut-in} $ however it\n",
    "may not be enough to overcome any generator or turbine ineffiencies & therefore no electricity may be produced at this wind speed. \n",
    "\n",
    "**Region 2** - The range of wind speed for which the turbine operates & produces electrical power output, note that there is a rapid growth of power produced over this range of wind speeds.\n",
    "\n",
    "$ v_{rated} $ The optimal operational wind speed for a given wind turbine, note this wind speed may not equate to the max achievable power output but rather the most efficient attainable power output (Rated Power Output) for the wind turbine.\n",
    "\n",
    "**Region 3** - The constant Rated Power Output is maintained in this wind speed region up untill cut-out wind $ v_{cut-off} $ is reached.\n",
    "\n",
    "$ v_{cut-off} $ The wind speed at which the turbine is taken out of operation to protect its components from high winds (typically 20–30 m/s).\n",
    "\n",
    "**Region 4** - Also know furling, for wind speeds at or greater than $ v_{cut-off} $, the turbine is taken out of operation to protect its components from high winds, the turbine produces no power output within this region.\n",
    "\n",
    "| SMALL TURBINES (0-10m DIAMETER ROTORS) | LARGE TURBINE (160 - 200m DIAMETER ROTORS) | \n",
    "|---|---|\n",
    "| <img src=\"https://github.com/PaulSweeney89/FDA-Project2020/blob/main/Images/Smallest%20Turbines%20-%20Power%20Curve.png?raw=true\" width=\"490\"/> | <img src=\"https://github.com/PaulSweeney89/FDA-Project2020/blob/main/Images/Largest%20Windturbine%20-%20Power%20Curve.png?raw=true\" width=\"490\"/> |\n",
    "\n",
    "**Figure 3** - Wind Power Curves For Various Turbine Types - [wind-turbine-models.com](https://en.wind-turbine-models.com/powercurves)\n",
    "\n",
    "From the 2 examples of wind turbine power curves above, it can be seen that the smaller turbines with rotor diameters between 0-10m can have a power output up to 20kW for windspeeds upto 12m/s.\n",
    "\n",
    "While the largest turbines with rotor diameters between 160 - 200m can produce up to 8000kW for windspeeds upto 12m/s.\n",
    "\n",
    "***"
   ]
  },
  {
   "cell_type": "markdown",
   "metadata": {},
   "source": [
    "## Powerproduction Dataset"
   ]
  },
  {
   "cell_type": "code",
   "execution_count": 71,
   "metadata": {},
   "outputs": [],
   "source": [
    "import pandas as pd\n",
    "import seaborn as sns\n",
    "import matplotlib.pyplot as plt\n",
    "import numpy as np\n",
    "\n",
    "# set plot style\n",
    "plt.style.use(\"ggplot\")\n",
    "\n",
    "# load powerproduction.csv file into pandas dataframe\n",
    "df_wind = pd.read_csv(\"https://raw.githubusercontent.com/ianmcloughlin/2020A-machstat-project/master/dataset/powerproduction.csv\")"
   ]
  },
  {
   "cell_type": "code",
   "execution_count": 2,
   "metadata": {
    "scrolled": false
   },
   "outputs": [
    {
     "data": {
      "text/html": [
       "<div>\n",
       "<style scoped>\n",
       "    .dataframe tbody tr th:only-of-type {\n",
       "        vertical-align: middle;\n",
       "    }\n",
       "\n",
       "    .dataframe tbody tr th {\n",
       "        vertical-align: top;\n",
       "    }\n",
       "\n",
       "    .dataframe thead th {\n",
       "        text-align: right;\n",
       "    }\n",
       "</style>\n",
       "<table border=\"1\" class=\"dataframe\">\n",
       "  <thead>\n",
       "    <tr style=\"text-align: right;\">\n",
       "      <th></th>\n",
       "      <th>speed</th>\n",
       "      <th>power</th>\n",
       "    </tr>\n",
       "  </thead>\n",
       "  <tbody>\n",
       "    <tr>\n",
       "      <th>count</th>\n",
       "      <td>500.000000</td>\n",
       "      <td>500.000000</td>\n",
       "    </tr>\n",
       "    <tr>\n",
       "      <th>mean</th>\n",
       "      <td>12.590398</td>\n",
       "      <td>48.014584</td>\n",
       "    </tr>\n",
       "    <tr>\n",
       "      <th>std</th>\n",
       "      <td>7.224991</td>\n",
       "      <td>41.614572</td>\n",
       "    </tr>\n",
       "    <tr>\n",
       "      <th>min</th>\n",
       "      <td>0.000000</td>\n",
       "      <td>0.000000</td>\n",
       "    </tr>\n",
       "    <tr>\n",
       "      <th>25%</th>\n",
       "      <td>6.324750</td>\n",
       "      <td>5.288000</td>\n",
       "    </tr>\n",
       "    <tr>\n",
       "      <th>50%</th>\n",
       "      <td>12.550500</td>\n",
       "      <td>41.645500</td>\n",
       "    </tr>\n",
       "    <tr>\n",
       "      <th>75%</th>\n",
       "      <td>18.775250</td>\n",
       "      <td>93.537000</td>\n",
       "    </tr>\n",
       "    <tr>\n",
       "      <th>max</th>\n",
       "      <td>25.000000</td>\n",
       "      <td>113.556000</td>\n",
       "    </tr>\n",
       "  </tbody>\n",
       "</table>\n",
       "</div>"
      ],
      "text/plain": [
       "            speed       power\n",
       "count  500.000000  500.000000\n",
       "mean    12.590398   48.014584\n",
       "std      7.224991   41.614572\n",
       "min      0.000000    0.000000\n",
       "25%      6.324750    5.288000\n",
       "50%     12.550500   41.645500\n",
       "75%     18.775250   93.537000\n",
       "max     25.000000  113.556000"
      ]
     },
     "execution_count": 2,
     "metadata": {},
     "output_type": "execute_result"
    }
   ],
   "source": [
    "# Output descriptive statistics of df_wind\n",
    "df_wind.describe()"
   ]
  },
  {
   "cell_type": "markdown",
   "metadata": {},
   "source": [
    "The pandas **DataFrame.describe()** function provides a very useful summary of the *powerproduction dataset*.\n",
    "\n",
    "It can be seen that the dataset consists of 2 columns, speed (wind speed) & power with each column contains 500 datapoints. \n",
    "\n",
    "No infomation has been provided regarding the size or type of turbine from which the data was collected or regarding the units of measurement used for the data contained within the dataset.\n",
    "\n",
    "However by looking at the values within the *powerproduction dataset* and comparing it to the wind turbine power curves found on [wind-turbine-models.com](https://en.wind-turbine-models.com/powercurves) the following can be assumped:\n",
    "\n",
    "- speed (wind speed) - metres per second, $m/s$\n",
    "- power - kilowatts, $kW$\n",
    "\n",
    "The summary of the *powerproduction dataset* indicates that the unknown turbine from which the dataset was compiled, has achieved a max powerout of 113kW, this might indicate that the turbine has a rated power output around 100kW. \n",
    "\n",
    "From further review of the various wind turbine data & power curves found on [wind-turbine-models.com](https://en.wind-turbine-models.com/powercurves) it would appear that the *powerproduction dataset* within this project is comparable to that of a wind turbine with a rotor diameter in the range of 20 to 30m."
   ]
  },
  {
   "cell_type": "markdown",
   "metadata": {},
   "source": [
    "**Power Curve - Speed vs Power**"
   ]
  },
  {
   "cell_type": "code",
   "execution_count": 3,
   "metadata": {
    "scrolled": true
   },
   "outputs": [
    {
     "data": {
      "image/png": "[encoded data removed]",
      "text/plain": [
       "<Figure size 432x288 with 1 Axes>"
      ]
     },
     "metadata": {},
     "output_type": "display_data"
    }
   ],
   "source": [
    "# Seaborn scatterplot of wind speed vs power from df_wind\n",
    "\n",
    "sns.scatterplot(data=df_wind, x=\"speed\", y=\"power\");"
   ]
  },
  {
   "cell_type": "markdown",
   "metadata": {},
   "source": [
    "The seaborn scatterplot of 'power' vs 'speed' for the *powerproduction dataset* reflects the very distincive shape of that of a typical wind turbine, refering back to **figure 2** the different regions of the wind turbine powercurve can be clearly differentiated.\n",
    "\n",
    "The plot also highlights a number of possible outliers or datapoints that don't appear to fit within the dataset.\n",
    "\n",
    "There are a number of points where the wind speed has increased above 10m/s but the power output for these points has remained at 0, it is a possibility that for these points the wind speed was recorded at a time when the wind turbine was not operable and therefore no corresponding power output was recorded. \n",
    "These points will be removed from the dataset, to prevent any possible obscurring of the data analysis or results."
   ]
  },
  {
   "cell_type": "markdown",
   "metadata": {},
   "source": [
    "**Cleaning the Dataset**"
   ]
  },
  {
   "cell_type": "code",
   "execution_count": 4,
   "metadata": {
    "scrolled": true
   },
   "outputs": [
    {
     "name": "stdout",
     "output_type": "stream",
     "text": [
      "      speed  power\n",
      "208  10.511    0.0\n",
      "340  17.167    0.0\n",
      "404  20.095    0.0\n",
      "456  22.998    0.0\n",
      "490  24.499    0.0\n",
      "491  24.525    0.0\n",
      "492  24.575    0.0\n",
      "493  24.650    0.0\n",
      "494  24.750    0.0\n",
      "495  24.775    0.0\n",
      "496  24.850    0.0\n",
      "497  24.875    0.0\n",
      "498  24.950    0.0\n",
      "499  25.000    0.0\n"
     ]
    },
    {
     "data": {
      "text/plain": [
       "speed    14\n",
       "power    14\n",
       "dtype: int64"
      ]
     },
     "execution_count": 4,
     "metadata": {},
     "output_type": "execute_result"
    }
   ],
   "source": [
    "# Selecting all the outlier datapoints where wind speed > 0 & powerout = 0\n",
    "df_out = df_wind[(df_wind[\"speed\"]>10) & (df_wind[\"power\"]==0)]\n",
    "\n",
    "print(df_out)\n",
    "df_out.count()"
   ]
  },
  {
   "cell_type": "markdown",
   "metadata": {},
   "source": [
    "There are 14 number outliers to be removed from the *powerproduction dataset*"
   ]
  },
  {
   "cell_type": "code",
   "execution_count": 5,
   "metadata": {
    "scrolled": true
   },
   "outputs": [
    {
     "name": "stdout",
     "output_type": "stream",
     "text": [
      "            speed       power\n",
      "count  486.000000  486.000000\n",
      "mean    12.298311   49.397720\n",
      "std      7.084043   41.391996\n",
      "min      0.000000    0.000000\n",
      "25%      6.137250    5.868250\n",
      "50%     12.349500   44.773000\n",
      "75%     18.386750   93.751250\n",
      "max     24.399000  113.556000\n"
     ]
    }
   ],
   "source": [
    "# remove the outliers to clean up the dataset\n",
    "df_clean = df_wind.drop(df_out.index, axis=0)\n",
    "\n",
    "print(df_clean.describe())\n",
    "\n",
    "# Output cleaned dataset as a csv file\n",
    "df_clean.to_csv(\"powerproduction_clean.csv\", index=False, encoding='utf8')"
   ]
  },
  {
   "cell_type": "markdown",
   "metadata": {},
   "source": [
    "By removing the outliers, it can be seen that the average speed & max speed of the dataset have been slightly reduced. \n",
    "\n",
    "The cleaned up dataset has also been output as \"powerproduction_clean.csv\" file.\n",
    "\n",
    "***"
   ]
  },
  {
   "cell_type": "markdown",
   "metadata": {},
   "source": [
    "## Wind Power Mathematical Models\n",
    "\n",
    "A look at some of wind power mathematical formulas & models with a review & comparison against the *powerproduction dataset* values.\n",
    "\n",
    "### Theoretical Wind Power Formula\n",
    "\n",
    "$$ P= \\frac{1}{2}\\rho A v^3 C_p \\hspace{1cm} (1)$$\n",
    "\n",
    "![swept area](https://github.com/PaulSweeney89/FDA-Project2020/blob/main/Images/Wind%20Turbine%20Swept%20Area.PNG?raw=true)\n",
    "\n",
    "**Figure 4** - Wind Turbine Swept Area - [renewable-solar-energy.blogspot.com](http://renewable-solar-energy.blogspot.com/2011/07/wind-turbine-swept-area.html)"
   ]
  },
  {
   "cell_type": "code",
   "execution_count": 6,
   "metadata": {},
   "outputs": [],
   "source": [
    "# Using Formula (1) to calculate the Theoretical Wind Power\n",
    "\n",
    "def P1(v, r, cp):\n",
    "    '''Function to calculate Wind Power\n",
    "    Input variables: - \n",
    "    v = wind speed\n",
    "    r = wind turbine rotor radius,\n",
    "    cp = power coefficent''' \n",
    "\n",
    "    # Air Density taken as 1.23 kg/m3\n",
    "    rho = 1.23\n",
    "    \n",
    "    # Swept area of turbine πr^2\n",
    "    A = (r**2) * 3.14\n",
    "    \n",
    "    # Power formula (1)\n",
    "    Power = 0.5*rho*A*(v**3)*cp / 1000\n",
    "    \n",
    "    return Power"
   ]
  },
  {
   "cell_type": "code",
   "execution_count": 7,
   "metadata": {},
   "outputs": [],
   "source": [
    "# create a NumPy array to provide wind speeds from 0 upto 17.5m/s in 0.5m/s increments\n",
    "v = np.linspace(0.0, 17.5, 35)"
   ]
  },
  {
   "cell_type": "markdown",
   "metadata": {},
   "source": [
    "Create a number of Theoretical Wind Power models by varying the power coefficent 'cp' & turbine rotor radius 'r'.\n",
    "\n",
    "|Turbine|Rotor Diameter 'D' (m)|Rotor Radius 'r' (m)|Power Coefficent 'cp'|\n",
    "|---|---|---|---|\n",
    "|Model 1|20|10|0.3|\n",
    "|Model 2|15|7.5|0.3|\n",
    "|Model 3|10|5|0.3|\n",
    "|Model 4|20|10|0.2|\n",
    "|Model 5|15|7.5|0.2|\n",
    "|Model 6|10|5|0.2|"
   ]
  },
  {
   "cell_type": "code",
   "execution_count": 8,
   "metadata": {},
   "outputs": [],
   "source": [
    "# DataFrame with power outputs for turbines with different parameters as listed above \n",
    "\n",
    "df_models = pd.DataFrame({\"wind speed\": v, \n",
    "                           \"power model 1\":P1(v, 10, 0.3), \n",
    "                           \"power model 2\":P1(v, 7.5, 0.3), \n",
    "                           \"power model 3\":P1(v, 5, 0.3),\n",
    "                           \"power model 4\":P1(v, 10, 0.2),\n",
    "                           \"power model 5\":P1(v, 7.5, 0.2), \n",
    "                           \"power model 6\":P1(v, 5, 0.2),\n",
    "                         })"
   ]
  },
  {
   "cell_type": "code",
   "execution_count": 9,
   "metadata": {},
   "outputs": [
    {
     "data": {
      "image/png": "[encoded data removed]",
      "text/plain": [
       "<Figure size 432x288 with 1 Axes>"
      ]
     },
     "metadata": {},
     "output_type": "display_data"
    }
   ],
   "source": [
    "# Comparing the above model plots against the powerproduction dataset \n",
    "\n",
    "sns.lineplot(x=df_models[\"wind speed\"], y=df_models[\"power model 1\"], linewidth = 3)\n",
    "sns.lineplot(x=df_models[\"wind speed\"], y=df_models[\"power model 2\"], linewidth = 3)\n",
    "sns.lineplot(x=df_models[\"wind speed\"], y=df_models[\"power model 3\"], linewidth = 3)\n",
    "sns.lineplot(x=df_models[\"wind speed\"], y=df_models[\"power model 4\"], linewidth = 3)\n",
    "sns.lineplot(x=df_models[\"wind speed\"], y=df_models[\"power model 5\"], linewidth = 3)\n",
    "sns.lineplot(x=df_models[\"wind speed\"], y=df_models[\"power model 6\"], linewidth = 3)\n",
    "\n",
    "# apply legend to plot\n",
    "plt.legend(labels=['Model 1', 'Model 2', 'Model 3', 'Model 4', \n",
    "                   'Model 5', 'Model 6' \n",
    "                  ])\n",
    "# apply title to plot\n",
    "plt.title(\"Theoretical Wind Power & Powerproduction Dataset\")\n",
    "\n",
    "sns.scatterplot(data=df_clean, x=\"speed\", y=\"power\", color='r', alpha=0.5);"
   ]
  },
  {
   "cell_type": "markdown",
   "metadata": {},
   "source": [
    "Overlaying the theoretical wind power outputs for different turbine parameters against the *powerproduction dataset* provides some interesting insights into & highlights some differences between the theoretical wind power formula & the *powerproduction dataset*.    \n",
    "\n",
    "1. Reducing the turbine rotor diameter by 5.0m, i.e 20m down to 15m down to 10m can result in approximately halfing the theorectical wind power output each time for the given windspeeds.\n",
    "\n",
    "\n",
    "2. By comparing the different theoretical wind turbine power outputs against the *powerproduction dataset*, it would appear that the theoretical turbine model 5 is the closest approx fit to the dataset. That is a turbine with a diameter of 15m & a power coefficient = 0.2. There are however so many variables that influence a turbines power output & wind power curve, that it would not be possible to say for definite that the powerproduction dataset was in fact produced by a 15m diameter turbine.\n",
    "\n",
    "\n",
    "3. Note that the formula for calculating the theoretical wind power output does not incorporate any of the operational practicalities of a wind turbine, i.e there is no means to account for the cut-off wind velocity or the operational safety of the turbine instead the formula indicates an exponential growth of wind power output, which is not the case as previously noted in the **Power Curves of Wind Turbines** section above. "
   ]
  },
  {
   "cell_type": "markdown",
   "metadata": {},
   "source": [
    "### 4-Parameter Logistic Function Model\n",
    "\n",
    "The 4 parameter logistic function provides a continuous curve relationship between wind speed and generated power [4].\n",
    "\n",
    "$$ P(u) = a \\frac{1 + me^{-u/t}}{1+ ne^{-u/t}} \\hspace{1cm} (2)$$\n",
    "\n",
    "(i) $a = P_r$\n",
    "\n",
    "(ii) $n = e^{2su_{ip} / (P_r - P_{ip})}$\n",
    "\n",
    "(iii) $m = (\\frac{2P_{ip}}{P_r} - 1) n$\n",
    "\n",
    "(iv) $\\tau = \\frac{P_r-P_{ip}}{2s}$\n",
    "\n",
    "$P_r$, $s$, $u_{ip}$, $P_{ip}$ can be obtained directly from the power curve.\n",
    "\n",
    "$P_r$ - Rated turbine power output, given by the turbine manufacturer.\n",
    "\n",
    "($u_{ip}$, $P_{ip}$) - Coordinates of the inflection point, i.e where the gradient of power reaches its maximum.\n",
    "\n",
    "$s$ -  Slope of the curve"
   ]
  },
  {
   "cell_type": "markdown",
   "metadata": {},
   "source": [
    "**Calculating Parameters of 4-P Logistic Function**\n",
    "![4-P Powercurve](https://github.com/PaulSweeney89/FDA-Project2020/blob/main/Images/4-P%20Powercurve.png?raw=true)"
   ]
  },
  {
   "cell_type": "markdown",
   "metadata": {},
   "source": [
    "The input parameter values for the 4-parameter logistic function were approximated by reading & estimating the values directly from the powercurve of the *powerproduction dataset*.\n",
    "\n",
    "Power Rating, $P_r$ = 100kW\n",
    "\n",
    "Slope, $s$ = 12\n",
    "\n",
    "Point of Inflection, $u_{ip}$, $P_{ip}$ = (12.5m/s, 50kW)"
   ]
  },
  {
   "cell_type": "code",
   "execution_count": 10,
   "metadata": {},
   "outputs": [
    {
     "name": "stdout",
     "output_type": "stream",
     "text": [
      "slope s = 12.0\n",
      "a =  100\n",
      "n =  403.4287934927351\n",
      "m = 0.0\n",
      "tau = 2.0833333333333335\n"
     ]
    }
   ],
   "source": [
    "# Calculating parameters based on powerproduction dataset power curve [4]\n",
    "\n",
    "# INPUT PARAMETERS:\n",
    "\n",
    "p_r = 100                         # Turbine rated power, estimate from power curve plot\n",
    "\n",
    "                                  # Calculating slope of line \n",
    "y_2 = 80                          # Coordinate values read from power curve plot                         \n",
    "x_2 = 15\n",
    "y_1 = 20\n",
    "x_1 = 10\n",
    "slope = (y_2 - y_1) / (x_2 - x_1)     \n",
    "print(\"slope s =\", slope)\n",
    "\n",
    "s = slope  \n",
    "                                  # Coordinate values read from power curve plot\n",
    "u_ip = 12.5                       # Wind Speed at curve inflection point\n",
    "p_ip = 50                         # Power at curve inflection point\n",
    "\n",
    "a = p_r\n",
    "print(\"a = \", a)\n",
    "\n",
    "n = np.exp((2*s*u_ip)/(p_r-p_ip))\n",
    "print(\"n = \", n)\n",
    "\n",
    "m = (((2*p_ip)/p_r)-1)*n\n",
    "print(\"m =\", m)\n",
    "\n",
    "tau = ((p_r-p_ip)/(2*s))\n",
    "print(\"tau =\", tau)"
   ]
  },
  {
   "cell_type": "code",
   "execution_count": 11,
   "metadata": {},
   "outputs": [],
   "source": [
    "# Using 4-parameter logistic function (2) to develop wind power curve\n",
    "def P2(u):\n",
    "    '''4-parameter logistic function,\n",
    "    Input parameters: - \n",
    "    a, m, n & r'''\n",
    "    #a, m, n, tau = 100, 0, 600, 2 # Initial Estimate test values (uncomment to use as inputs)\n",
    "    P = a * (1.0 + m * np.exp(-u / tau)) / (1.0 + n * np.exp(-u / tau))\n",
    "    return P"
   ]
  },
  {
   "cell_type": "code",
   "execution_count": 12,
   "metadata": {
    "scrolled": false
   },
   "outputs": [
    {
     "name": "stdout",
     "output_type": "stream",
     "text": [
      "4P-Logistic Function - Power Output \n",
      " count    486.000000\n",
      "mean      49.346210\n",
      "std       40.784914\n",
      "min        0.247262\n",
      "25%        4.504046\n",
      "50%       48.194801\n",
      "75%       94.404510\n",
      "max       99.670326\n",
      "Name: power, dtype: float64 \n",
      "\n",
      "Powerproduction Dataset - Power Output \n",
      " count    486.000000\n",
      "mean      49.397720\n",
      "std       41.391996\n",
      "min        0.000000\n",
      "25%        5.868250\n",
      "50%       44.773000\n",
      "75%       93.751250\n",
      "max      113.556000\n",
      "Name: power, dtype: float64\n"
     ]
    }
   ],
   "source": [
    "# DataFrame with Windspeed & Power calculated using 4-parameter logistic function\n",
    "df_4p_model = pd.DataFrame({\"wind speed\":df_clean[\"speed\"], \"power\":P2(df_clean[\"speed\"])})\n",
    "\n",
    "# Output Summaries of \"4P-Logistic Function - Power Output\" & \"Powerproduction Dataset - Power Output\"\n",
    "print(\"4P-Logistic Function - Power Output\", \"\\n\", df_4p_model[\"power\"].describe(), \"\\n\")\n",
    "\n",
    "print(\"Powerproduction Dataset - Power Output\", \"\\n\", df_clean[\"power\"].describe())"
   ]
  },
  {
   "cell_type": "code",
   "execution_count": 13,
   "metadata": {
    "scrolled": false
   },
   "outputs": [
    {
     "data": {
      "image/png": "[encoded data removed]",
      "text/plain": [
       "<Figure size 432x288 with 1 Axes>"
      ]
     },
     "metadata": {},
     "output_type": "display_data"
    }
   ],
   "source": [
    "# Plot of 4-P Logistic Function\n",
    "sns.lineplot(x=df_clean[\"speed\"],y=df_4p_model[\"power\"], color='b')\n",
    "\n",
    "# apply title to plot\n",
    "plt.title(\"4-Parameter Logistic Function & Powerproduction Dataset\")\n",
    "\n",
    "# Powerproduction Dataset Plot\n",
    "sns.scatterplot(data=df_clean, x=\"speed\", y=\"power\", color='r', alpha=0.25);"
   ]
  },
  {
   "cell_type": "markdown",
   "metadata": {},
   "source": [
    "The continous curve of the 4-parameter logistic function provides a very good fit to the powercurve of the *powerproduction dataset*.\n",
    "\n",
    "The input parameter used to form the shape of the function were estimated from the powercurve plot of the dataset, however in reality these values should be based on known information provided by the wind turbine manufacturer. \n",
    "\n",
    "Comparing the summaries of the the 4P-Logistic Function Power Output & Powerproduction Dataset Power Output it can be seen that there is very minor differences between calculated summary values. \n",
    "\n",
    "It can be seen that the 4P-Logistic Function provides a very good continous curve model for calculating the power curve of a wind turbine when the parameters of the function are known. However from reviewing against the *powerproduction dataset* values it would appear that the function makes slightly higher approximations of the power curve for the lower values of the wind speed, particularly around the wind speed cut in value.\n",
    "\n",
    "***"
   ]
  },
  {
   "cell_type": "markdown",
   "metadata": {},
   "source": [
    "## Simple Linear Regresson Models"
   ]
  },
  {
   "cell_type": "markdown",
   "metadata": {},
   "source": [
    "Linear regression attempts to model the relationship between two variables by fitting a linear equation to observed data [8]. \n",
    "\n",
    "The linear regression model can then be used to predict or estimate the value of a variable based on the value of another variable.\n",
    "\n",
    "Prior to fitting a linear regression model there first must be a relationship or some significant association between the variables. \n",
    "\n",
    "A linear regression line has an equation of the form, \n",
    "$$ y = a + bx \\hspace{1cm} (3) $$\n",
    "\n",
    "y = estimated dependent variable\n",
    "\n",
    "a = constant or intercept (the value of y when x = 0)\n",
    "\n",
    "b = regression coefficient or the slope of the line\n",
    "\n",
    "x = explanatory variable\n",
    "\n",
    "### Least Squares Regression Line\n",
    "\n",
    "In order to model a 'best fit' regression line to a set of variables the method of least squares is used. The least squares method involves fitting a line and measuring the vertical deviations or distances from each data point to the line, the 'best fit' line or model is  achieved by positioning the line within the data points so that these vertical deviations or distances are minimized.   \n",
    "\n",
    "![Least Squares](https://github.com/PaulSweeney89/FDA-Project2020/blob/main/Images/Least%20Squares.png?raw=true)\n",
    "\n",
    "**Figure 5** - Least Squares Regression Method - [www.quora.com, Least Squares](https://www.quora.com/What-is-the-difference-between-linear-regression-and-least-squares)\n",
    "\n",
    "To determine the Least Squares Regression line, the slope of the line b can be calculated using the below formula.\n",
    "\n",
    "$$ b = \\frac{\\sum(x - \\bar{x})(y - \\bar{y})}{\\sum(x - \\bar{x})^2} \\hspace{1cm} (4)  $$\n",
    "\n",
    "$x$ = x-coordinates of datapoints\n",
    "\n",
    "$y$ = y-coordinates of datapoints\n",
    "\n",
    "$\\bar x$ = mean value of x-coordinate datapoints\n",
    "\n",
    "$\\bar y$ = mean value of y-coordinate datapoints"
   ]
  },
  {
   "cell_type": "markdown",
   "metadata": {},
   "source": [
    "**Calculating the Least Squares Regression Line Manually**\n",
    "\n",
    "As an exercise to become farmilar with linear regression & the method & process involved in calculating the 'best fit' line,  the Least Squares Regression method was carried out below using formulas (3) & (4)."
   ]
  },
  {
   "cell_type": "markdown",
   "metadata": {},
   "source": [
    "Select from the full dataset the range of data to which a linear regression line can best be applied. \n",
    "\n",
    "In this instance the data from within the range of windspeed from 10m/s upto 15m/s was selected as this portion of the dataset shows a strong linear relationship between \"wind speed\" & \"power\"."
   ]
  },
  {
   "cell_type": "code",
   "execution_count": 63,
   "metadata": {},
   "outputs": [
    {
     "data": {
      "text/html": [
       "<div>\n",
       "<style scoped>\n",
       "    .dataframe tbody tr th:only-of-type {\n",
       "        vertical-align: middle;\n",
       "    }\n",
       "\n",
       "    .dataframe tbody tr th {\n",
       "        vertical-align: top;\n",
       "    }\n",
       "\n",
       "    .dataframe thead th {\n",
       "        text-align: right;\n",
       "    }\n",
       "</style>\n",
       "<table border=\"1\" class=\"dataframe\">\n",
       "  <thead>\n",
       "    <tr style=\"text-align: right;\">\n",
       "      <th></th>\n",
       "      <th>speed</th>\n",
       "      <th>power</th>\n",
       "    </tr>\n",
       "  </thead>\n",
       "  <tbody>\n",
       "    <tr>\n",
       "      <th>195</th>\n",
       "      <td>10.035</td>\n",
       "      <td>16.139</td>\n",
       "    </tr>\n",
       "    <tr>\n",
       "      <th>196</th>\n",
       "      <td>10.085</td>\n",
       "      <td>20.709</td>\n",
       "    </tr>\n",
       "    <tr>\n",
       "      <th>197</th>\n",
       "      <td>10.110</td>\n",
       "      <td>26.427</td>\n",
       "    </tr>\n",
       "    <tr>\n",
       "      <th>198</th>\n",
       "      <td>10.135</td>\n",
       "      <td>12.624</td>\n",
       "    </tr>\n",
       "    <tr>\n",
       "      <th>199</th>\n",
       "      <td>10.160</td>\n",
       "      <td>16.474</td>\n",
       "    </tr>\n",
       "    <tr>\n",
       "      <th>...</th>\n",
       "      <td>...</td>\n",
       "      <td>...</td>\n",
       "    </tr>\n",
       "    <tr>\n",
       "      <th>288</th>\n",
       "      <td>14.715</td>\n",
       "      <td>78.499</td>\n",
       "    </tr>\n",
       "    <tr>\n",
       "      <th>289</th>\n",
       "      <td>14.740</td>\n",
       "      <td>69.699</td>\n",
       "    </tr>\n",
       "    <tr>\n",
       "      <th>290</th>\n",
       "      <td>14.765</td>\n",
       "      <td>82.147</td>\n",
       "    </tr>\n",
       "    <tr>\n",
       "      <th>291</th>\n",
       "      <td>14.840</td>\n",
       "      <td>75.466</td>\n",
       "    </tr>\n",
       "    <tr>\n",
       "      <th>292</th>\n",
       "      <td>14.865</td>\n",
       "      <td>72.135</td>\n",
       "    </tr>\n",
       "  </tbody>\n",
       "</table>\n",
       "<p>97 rows × 2 columns</p>\n",
       "</div>"
      ],
      "text/plain": [
       "      speed   power\n",
       "195  10.035  16.139\n",
       "196  10.085  20.709\n",
       "197  10.110  26.427\n",
       "198  10.135  12.624\n",
       "199  10.160  16.474\n",
       "..      ...     ...\n",
       "288  14.715  78.499\n",
       "289  14.740  69.699\n",
       "290  14.765  82.147\n",
       "291  14.840  75.466\n",
       "292  14.865  72.135\n",
       "\n",
       "[97 rows x 2 columns]"
      ]
     },
     "execution_count": 63,
     "metadata": {},
     "output_type": "execute_result"
    }
   ],
   "source": [
    "# Selecting the data within the range of windspeed from 10m/s upo 15m/s\n",
    "df_sel = df_clean[(df_clean[\"speed\"]>10) & (df_clean[\"speed\"]<15)]\n",
    "df_sel"
   ]
  },
  {
   "cell_type": "code",
   "execution_count": 61,
   "metadata": {},
   "outputs": [],
   "source": [
    "# Create a new DataFrame for the manual Least Squares Regression calc\n",
    "spd =speed = df_sel[\"speed\"]\n",
    "pwr =power = df_sel[\"power\"]\n",
    "\n",
    "df_lsr = pd.DataFrame({\"WS\":spd, \"PWR\":pwr})"
   ]
  },
  {
   "cell_type": "markdown",
   "metadata": {},
   "source": [
    "Calculate the mean values for \"wind speed\" & \"power\" i.e $\\bar x$ & $\\bar y$"
   ]
  },
  {
   "cell_type": "code",
   "execution_count": 64,
   "metadata": {},
   "outputs": [
    {
     "name": "stdout",
     "output_type": "stream",
     "text": [
      "WS_mean =  12.381432989690722\n",
      "PWR_mean =  46.49056701030927\n"
     ]
    }
   ],
   "source": [
    "# means of \"wind speed\" & \"power\"\n",
    "mean_spd = spd.mean()\n",
    "mean_pwr = pwr.mean()\n",
    "print(\"WS_mean = \", mean_spd)\n",
    "print(\"PWR_mean = \", mean_pwr)"
   ]
  },
  {
   "cell_type": "markdown",
   "metadata": {},
   "source": [
    "Calculate the difference between each value and the mean value i.e $ x-\\bar x$ & $ y-\\bar y$ for each dataset value\n",
    "\n",
    "Calulate $ (x-\\bar x)(y-\\bar y) $ & $ (x-\\bar x)^2 $ for each dataset value"
   ]
  },
  {
   "cell_type": "code",
   "execution_count": 66,
   "metadata": {
    "scrolled": false
   },
   "outputs": [
    {
     "data": {
      "text/html": [
       "<div>\n",
       "<style scoped>\n",
       "    .dataframe tbody tr th:only-of-type {\n",
       "        vertical-align: middle;\n",
       "    }\n",
       "\n",
       "    .dataframe tbody tr th {\n",
       "        vertical-align: top;\n",
       "    }\n",
       "\n",
       "    .dataframe thead th {\n",
       "        text-align: right;\n",
       "    }\n",
       "</style>\n",
       "<table border=\"1\" class=\"dataframe\">\n",
       "  <thead>\n",
       "    <tr style=\"text-align: right;\">\n",
       "      <th></th>\n",
       "      <th>WS</th>\n",
       "      <th>PWR</th>\n",
       "      <th>WS - WS_mean (X)</th>\n",
       "      <th>PWR - PWR_mean (Y)</th>\n",
       "      <th>X*Y</th>\n",
       "      <th>X^2</th>\n",
       "    </tr>\n",
       "  </thead>\n",
       "  <tbody>\n",
       "    <tr>\n",
       "      <th>195</th>\n",
       "      <td>10.035</td>\n",
       "      <td>16.139</td>\n",
       "      <td>-2.346433</td>\n",
       "      <td>-30.351567</td>\n",
       "      <td>71.217918</td>\n",
       "      <td>5.505748</td>\n",
       "    </tr>\n",
       "    <tr>\n",
       "      <th>196</th>\n",
       "      <td>10.085</td>\n",
       "      <td>20.709</td>\n",
       "      <td>-2.296433</td>\n",
       "      <td>-25.781567</td>\n",
       "      <td>59.205641</td>\n",
       "      <td>5.273604</td>\n",
       "    </tr>\n",
       "    <tr>\n",
       "      <th>197</th>\n",
       "      <td>10.110</td>\n",
       "      <td>26.427</td>\n",
       "      <td>-2.271433</td>\n",
       "      <td>-20.063567</td>\n",
       "      <td>45.573048</td>\n",
       "      <td>5.159408</td>\n",
       "    </tr>\n",
       "    <tr>\n",
       "      <th>198</th>\n",
       "      <td>10.135</td>\n",
       "      <td>12.624</td>\n",
       "      <td>-2.246433</td>\n",
       "      <td>-33.866567</td>\n",
       "      <td>76.078973</td>\n",
       "      <td>5.046461</td>\n",
       "    </tr>\n",
       "    <tr>\n",
       "      <th>199</th>\n",
       "      <td>10.160</td>\n",
       "      <td>16.474</td>\n",
       "      <td>-2.221433</td>\n",
       "      <td>-30.016567</td>\n",
       "      <td>66.679792</td>\n",
       "      <td>4.934765</td>\n",
       "    </tr>\n",
       "    <tr>\n",
       "      <th>...</th>\n",
       "      <td>...</td>\n",
       "      <td>...</td>\n",
       "      <td>...</td>\n",
       "      <td>...</td>\n",
       "      <td>...</td>\n",
       "      <td>...</td>\n",
       "    </tr>\n",
       "    <tr>\n",
       "      <th>288</th>\n",
       "      <td>14.715</td>\n",
       "      <td>78.499</td>\n",
       "      <td>2.333567</td>\n",
       "      <td>32.008433</td>\n",
       "      <td>74.693823</td>\n",
       "      <td>5.445535</td>\n",
       "    </tr>\n",
       "    <tr>\n",
       "      <th>289</th>\n",
       "      <td>14.740</td>\n",
       "      <td>69.699</td>\n",
       "      <td>2.358567</td>\n",
       "      <td>23.208433</td>\n",
       "      <td>54.738644</td>\n",
       "      <td>5.562838</td>\n",
       "    </tr>\n",
       "    <tr>\n",
       "      <th>290</th>\n",
       "      <td>14.765</td>\n",
       "      <td>82.147</td>\n",
       "      <td>2.383567</td>\n",
       "      <td>35.656433</td>\n",
       "      <td>84.989497</td>\n",
       "      <td>5.681392</td>\n",
       "    </tr>\n",
       "    <tr>\n",
       "      <th>291</th>\n",
       "      <td>14.840</td>\n",
       "      <td>75.466</td>\n",
       "      <td>2.458567</td>\n",
       "      <td>28.975433</td>\n",
       "      <td>71.238044</td>\n",
       "      <td>6.044552</td>\n",
       "    </tr>\n",
       "    <tr>\n",
       "      <th>292</th>\n",
       "      <td>14.865</td>\n",
       "      <td>72.135</td>\n",
       "      <td>2.483567</td>\n",
       "      <td>25.644433</td>\n",
       "      <td>63.689668</td>\n",
       "      <td>6.168105</td>\n",
       "    </tr>\n",
       "  </tbody>\n",
       "</table>\n",
       "<p>97 rows × 6 columns</p>\n",
       "</div>"
      ],
      "text/plain": [
       "         WS     PWR  WS - WS_mean (X)  PWR - PWR_mean (Y)        X*Y       X^2\n",
       "195  10.035  16.139         -2.346433          -30.351567  71.217918  5.505748\n",
       "196  10.085  20.709         -2.296433          -25.781567  59.205641  5.273604\n",
       "197  10.110  26.427         -2.271433          -20.063567  45.573048  5.159408\n",
       "198  10.135  12.624         -2.246433          -33.866567  76.078973  5.046461\n",
       "199  10.160  16.474         -2.221433          -30.016567  66.679792  4.934765\n",
       "..      ...     ...               ...                 ...        ...       ...\n",
       "288  14.715  78.499          2.333567           32.008433  74.693823  5.445535\n",
       "289  14.740  69.699          2.358567           23.208433  54.738644  5.562838\n",
       "290  14.765  82.147          2.383567           35.656433  84.989497  5.681392\n",
       "291  14.840  75.466          2.458567           28.975433  71.238044  6.044552\n",
       "292  14.865  72.135          2.483567           25.644433  63.689668  6.168105\n",
       "\n",
       "[97 rows x 6 columns]"
      ]
     },
     "execution_count": 66,
     "metadata": {},
     "output_type": "execute_result"
    }
   ],
   "source": [
    "# DataFrame for Calculating Least Squares Method\n",
    "\n",
    "ws_minus_mean = df_lsr[\"WS\"] - mean_spd\n",
    "pwr_minus_mean = df_lsr[\"PWR\"] - mean_pwr\n",
    "\n",
    "ws_x_pwr = ws_minus_mean * pwr_minus_mean\n",
    "\n",
    "ws_minus_mean_sq = ws_minus_mean ** 2\n",
    "\n",
    "df_lsr[\"WS - WS_mean (X)\"] = ws_minus_mean\n",
    "df_lsr[\"PWR - PWR_mean (Y)\"] = pwr_minus_mean\n",
    "df_lsr[\"X*Y\"] = ws_x_pwr\n",
    "df_lsr[\"X^2\"] = ws_minus_mean_sq\n",
    "\n",
    "df_lsr"
   ]
  },
  {
   "cell_type": "markdown",
   "metadata": {},
   "source": [
    "Calculating b, the regression coefficient or the slope of the regression line using formula (4)."
   ]
  },
  {
   "cell_type": "code",
   "execution_count": 69,
   "metadata": {
    "scrolled": true
   },
   "outputs": [
    {
     "name": "stdout",
     "output_type": "stream",
     "text": [
      "Sum X*Y =  2462.614\n",
      "Sum X^2 =  203.162\n",
      "b =  12.121\n"
     ]
    }
   ],
   "source": [
    "sum_XY = sum(df_lsr[\"X*Y\"])\n",
    "sum_X_sq = sum(df_lsr[\"X^2\"])\n",
    "\n",
    "print(\"Sum X*Y = \", round(sum_XY, 3))\n",
    "print(\"Sum X^2 = \", round(sum_X_sq, 3))\n",
    "\n",
    "b = sum_XY / sum_X_sq\n",
    "\n",
    "print(\"b = \", round(b, 3))"
   ]
  },
  {
   "cell_type": "markdown",
   "metadata": {},
   "source": [
    "Using mean values of \"wind speed\" & \"power\", calculating a - the intercept of the y-axis of the regression line using formula (3)."
   ]
  },
  {
   "cell_type": "code",
   "execution_count": 70,
   "metadata": {},
   "outputs": [
    {
     "name": "stdout",
     "output_type": "stream",
     "text": [
      "a =  -103.59\n"
     ]
    }
   ],
   "source": [
    "a = mean_pwr - (b * mean_spd) \n",
    "print(\"a = \", round(a, 3))"
   ]
  },
  {
   "cell_type": "markdown",
   "metadata": {},
   "source": [
    "From carrying out the  Least Squares Regression method, it can be found that the regression line is given by the formula,\n",
    "\n",
    "$$ y = 12.121x - 103.59 $$"
   ]
  },
  {
   "cell_type": "markdown",
   "metadata": {},
   "source": [
    "### Scikit-Learn Linear Regression\n",
    "\n",
    "Alternatively to processing the Least Squares Regression method manually, the python package Scikit-Learn contains the class LinearRegression which allows for quick & easy implementation of linear regression & it's functionalities."
   ]
  },
  {
   "cell_type": "code",
   "execution_count": 49,
   "metadata": {},
   "outputs": [],
   "source": [
    "from sklearn.linear_model import LinearRegression"
   ]
  },
  {
   "cell_type": "markdown",
   "metadata": {},
   "source": [
    "**Linear Regression Model 1**\n",
    "\n",
    "Using the full range of values within the cleaned dataset to determine the linear regression line model 1. "
   ]
  },
  {
   "cell_type": "code",
   "execution_count": 72,
   "metadata": {
    "scrolled": false
   },
   "outputs": [
    {
     "name": "stdout",
     "output_type": "stream",
     "text": [
      "Coefficient of Determination R^2 =  0.9025487607456801\n",
      "Model slope:     5.550990899442821\n",
      "Model intercept: -18.87009060732686\n"
     ]
    }
   ],
   "source": [
    "# Linear Regression Model using the full range of data wiwthin the Powerproduction Dataset\n",
    "x = df_clean[\"speed\"].to_numpy().reshape(-1, 1)\n",
    "y = df_clean[\"power\"].to_numpy()\n",
    "\n",
    "model = LinearRegression().fit(x, y)\n",
    "\n",
    "r_sq = model.score(x, y)\n",
    "print(\"Coefficient of Determination R^2 = \", r_sq)\n",
    "print(\"Model slope:    \", model.coef_[0])\n",
    "print(\"Model intercept:\", model.intercept_)"
   ]
  },
  {
   "cell_type": "code",
   "execution_count": 73,
   "metadata": {},
   "outputs": [],
   "source": [
    "# Define function for linear regression line\n",
    "def f1(x):\n",
    "    f1 = -18.87009060732686 + x *  5.550990899442821\n",
    "    return f1"
   ]
  },
  {
   "cell_type": "markdown",
   "metadata": {},
   "source": [
    "**Linear Regression Model 2**\n",
    "\n",
    "Using the reduced range of values within the windspeed range from 10m/s upto 15m/s to determine the linear regression line model 2. "
   ]
  },
  {
   "cell_type": "code",
   "execution_count": 74,
   "metadata": {},
   "outputs": [
    {
     "name": "stdout",
     "output_type": "stream",
     "text": [
      "Coefficient of Determination R^2 =  0.9445216019522475\n",
      "Model slope:     12.121446383379494\n",
      "Model intercept: -103.59030912363288\n"
     ]
    }
   ],
   "source": [
    "# Linear Regression Model using reduced range of data wiwthin the Powerproduction Dataset\n",
    "x = df_sel[\"speed\"].to_numpy().reshape(-1, 1)\n",
    "y = df_sel[\"power\"].to_numpy()\n",
    "\n",
    "model = LinearRegression().fit(x, y)\n",
    "\n",
    "r_sq = model.score(x, y)\n",
    "print(\"Coefficient of Determination R^2 = \", r_sq)\n",
    "print(\"Model slope:    \", model.coef_[0])\n",
    "print(\"Model intercept:\", model.intercept_)"
   ]
  },
  {
   "cell_type": "code",
   "execution_count": 75,
   "metadata": {},
   "outputs": [],
   "source": [
    "# Define function for linear regression line\n",
    "def f2(x):\n",
    "    f2 = -103.59030912363288 + x * 12.121446383379494\n",
    "    return f2"
   ]
  },
  {
   "cell_type": "markdown",
   "metadata": {},
   "source": [
    "It can be seen that by using the same range of data, the Scikit-learn package has produced the same linear regression line (model 2) as the regression line manually produced by the Least Squares Regression method. "
   ]
  },
  {
   "cell_type": "markdown",
   "metadata": {},
   "source": [
    "### Plotting the Linear Regression Models"
   ]
  },
  {
   "cell_type": "code",
   "execution_count": 76,
   "metadata": {},
   "outputs": [],
   "source": [
    "# create NumPy arrays to provide wind speeds in 0.5m/s increments\n",
    "# for plotting Linear Regression Models\n",
    "x_1 = np.linspace(2, 25, 47)\n",
    "x_2 = np.linspace(8, 17.5, 20)"
   ]
  },
  {
   "cell_type": "code",
   "execution_count": 77,
   "metadata": {
    "scrolled": false
   },
   "outputs": [
    {
     "data": {
      "image/png": "[encoded data removed]",
      "text/plain": [
       "<Figure size 432x288 with 1 Axes>"
      ]
     },
     "metadata": {},
     "output_type": "display_data"
    }
   ],
   "source": [
    "# Linear Regression Model 1 Plot\n",
    "sns.lineplot(x=x_1, y=f1(x_1), color='b')\n",
    "\n",
    "# Linear Regression Model 2 Plot\n",
    "sns.lineplot(x=x_2, y=f2(x_2), color='g')\n",
    "\n",
    "plt.legend(labels=['Linear Regression Model 1', 'Linear Regression Model 2'])\n",
    "\n",
    "# Powerproduction Dataset Plot\n",
    "sns.scatterplot(data=df_clean, x=\"speed\", y=\"power\", color='r', alpha=0.25);"
   ]
  },
  {
   "cell_type": "markdown",
   "metadata": {},
   "source": [
    "By plotting the 2 linear regression lines against the *powerproduction dataset* it can be seen how well the 2 models fit.\n",
    "\n",
    "**Linear regression model 1** was calculated using all of the values within the dataset, due to the nature & shape of the wind power curve this regression line won't be suitable to be use as a means of predicting or modelling the power production of the turbine. The regression line is skewed by the datapoints that are located prior to the cut-in wind speed i.e region 1 and the datapoints that occur after the rated wind speed i.e region 3.   \n",
    "\n",
    "**Linear regression model 2** was fitted using the datapoints contained within the wind speed range of 10m/s upto 15m/s. The regression line fits well within this region, where there is a clear linear relationship between \"wind speed\" & \"power\". The regression line model 2 therefore makes a suitable model for predicting the power output for a given wind speed within this region. \n",
    "However the linear regression model does not take account of the the wind cut-in or cut-off functionalities of the turbine, it also does not reflect the regions witin the powercurve where the \"wind speed\" & \"power\" follows more of a non-linear relationship.  "
   ]
  },
  {
   "cell_type": "markdown",
   "metadata": {},
   "source": [
    "## References\n",
    "\n",
    "[1] [seai.ie, Sustainable Energy Authority of Ireland](https://www.seai.ie/technologies/wind-energy/#:~:text=Wind%20energy%20in%20Ireland,of%20renewable%20energy%20in%20Ireland.&text=In%202018%20Wind%20provided%2085,in%20Ireland%20after%20natural%20gas.)\n",
    "\n",
    "[2] [raeng.org.uk, The Royal Academy of Engineering - Wind Turbine Power Calculations Publication](https://www.raeng.org.uk/publications/other/23-wind-turbine)\n",
    "\n",
    "[3] [shanelynn.ie, Pandas Dataframe Indexing](https://www.shanelynn.ie/select-pandas-dataframe-rows-and-columns-using-iloc-loc-and-ix/)\n",
    "\n",
    "[4] [Reformulation of parameters of the logistic function applied to power curves of wind turbines, Daniel Villanueva & Andrés E.Feijóo, sciencedirect.com](https://www.sciencedirect.com/science/article/pii/S0378779616300992)\n",
    "\n",
    "[5] [https://www.sciencedirect.com/science/article/pii/S0960148116308989](https://www.sciencedirect.com/science/article/pii/S0960148116308989)\n",
    "\n",
    "[6] [towardsdatascience.com, Linear Regression Examples](https://towardsdatascience.com/statistical-overview-of-linear-regression-examples-in-python-80a38680e053)\n",
    "\n",
    "[7] [realpython.com, Linear Regression](https://realpython.com/linear-regression-in-python/)\n",
    "\n",
    "[8] [www.stat.yale.edu, Linear Regression](http://www.stat.yale.edu/Courses/1997-98/101/linreg.htm)\n",
    "\n",
    "[9] [www.technologynetworks.com, Calculating Least Squares Regression](https://www.technologynetworks.com/informatics/articles/calculating-a-least-squares-regression-line-equation-example-explanation-310265)"
   ]
  }
 ],
 "metadata": {
  "kernelspec": {
   "display_name": "Python 3",
   "language": "python",
   "name": "python3"
  },
  "language_info": {
   "codemirror_mode": {
    "name": "ipython",
    "version": 3
   },
   "file_extension": ".py",
   "mimetype": "text/x-python",
   "name": "python",
   "nbconvert_exporter": "python",
   "pygments_lexer": "ipython3",
   "version": "3.8.3"
  }
 },
 "nbformat": 4,
 "nbformat_minor": 4
}
